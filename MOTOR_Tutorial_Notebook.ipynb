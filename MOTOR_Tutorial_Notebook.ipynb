{
  "nbformat": 4,
  "nbformat_minor": 0,
  "metadata": {
    "colab": {
      "provenance": []
    },
    "kernelspec": {
      "name": "python3",
      "display_name": "Python 3"
    },
    "language_info": {
      "name": "python"
    }
  },
  "cells": [
    {
      "cell_type": "code",
      "execution_count": null,
      "metadata": {
        "id": "wlFGbW3cj2cN",
        "colab": {
          "base_uri": "https://localhost:8080/"
        },
        "outputId": "66af5d16-2c69-4d93-ed47-d073cfe2381e"
      },
      "outputs": [
        {
          "output_type": "stream",
          "name": "stdout",
          "text": [
            "Collecting jax[cpu]==0.4.8\n",
            "  Downloading jax-0.4.8.tar.gz (1.2 MB)\n",
            "\u001b[?25l     \u001b[90m━━━━━━━━━━━━━━━━━━━━━━━━━━━━━━━━━━━━━━━━\u001b[0m \u001b[32m0.0/1.2 MB\u001b[0m \u001b[31m?\u001b[0m eta \u001b[36m-:--:--\u001b[0m\r\u001b[2K     \u001b[91m━━━\u001b[0m\u001b[91m╸\u001b[0m\u001b[90m━━━━━━━━━━━━━━━━━━━━━━━━━━━━━━━━━━━━\u001b[0m \u001b[32m0.1/1.2 MB\u001b[0m \u001b[31m3.1 MB/s\u001b[0m eta \u001b[36m0:00:01\u001b[0m\r\u001b[2K     \u001b[91m━━━━━━━━━━━━━━━━━━━━━━━━━━━━━━━━━━━━━━━\u001b[0m\u001b[91m╸\u001b[0m \u001b[32m1.2/1.2 MB\u001b[0m \u001b[31m22.1 MB/s\u001b[0m eta \u001b[36m0:00:01\u001b[0m\r\u001b[2K     \u001b[90m━━━━━━━━━━━━━━━━━━━━━━━━━━━━━━━━━━━━━━━━\u001b[0m \u001b[32m1.2/1.2 MB\u001b[0m \u001b[31m17.0 MB/s\u001b[0m eta \u001b[36m0:00:00\u001b[0m\n",
            "\u001b[?25h  Installing build dependencies ... \u001b[?25l\u001b[?25hdone\n",
            "  Getting requirements to build wheel ... \u001b[?25l\u001b[?25hdone\n",
            "  Preparing metadata (pyproject.toml) ... \u001b[?25l\u001b[?25hdone\n",
            "Requirement already satisfied: ml-dtypes>=0.0.3 in /usr/local/lib/python3.10/dist-packages (from jax[cpu]==0.4.8) (0.2.0)\n",
            "Requirement already satisfied: numpy>=1.21 in /usr/local/lib/python3.10/dist-packages (from jax[cpu]==0.4.8) (1.23.5)\n",
            "Requirement already satisfied: opt-einsum in /usr/local/lib/python3.10/dist-packages (from jax[cpu]==0.4.8) (3.3.0)\n",
            "Requirement already satisfied: scipy>=1.7 in /usr/local/lib/python3.10/dist-packages (from jax[cpu]==0.4.8) (1.11.3)\n",
            "Collecting jaxlib==0.4.7 (from jax[cpu]==0.4.8)\n",
            "  Downloading jaxlib-0.4.7-cp310-cp310-manylinux2014_x86_64.whl (66.1 MB)\n",
            "\u001b[2K     \u001b[90m━━━━━━━━━━━━━━━━━━━━━━━━━━━━━━━━━━━━━━━━\u001b[0m \u001b[32m66.1/66.1 MB\u001b[0m \u001b[31m10.4 MB/s\u001b[0m eta \u001b[36m0:00:00\u001b[0m\n",
            "\u001b[?25hBuilding wheels for collected packages: jax\n",
            "  Building wheel for jax (pyproject.toml) ... \u001b[?25l\u001b[?25hdone\n",
            "  Created wheel for jax: filename=jax-0.4.8-py3-none-any.whl size=1439671 sha256=35a552ccaf80a62e7056bad283e2a1d3631ac38bbba2d805dc5b3f4193e16184\n",
            "  Stored in directory: /root/.cache/pip/wheels/09/6f/35/a8fac8b61de8e0d9eb07988481528898561923e260b1fa7d2f\n",
            "Successfully built jax\n",
            "Installing collected packages: jaxlib, jax\n",
            "  Attempting uninstall: jaxlib\n",
            "    Found existing installation: jaxlib 0.4.16+cuda11.cudnn86\n",
            "    Uninstalling jaxlib-0.4.16+cuda11.cudnn86:\n",
            "      Successfully uninstalled jaxlib-0.4.16+cuda11.cudnn86\n",
            "  Attempting uninstall: jax\n",
            "    Found existing installation: jax 0.4.16\n",
            "    Uninstalling jax-0.4.16:\n",
            "      Successfully uninstalled jax-0.4.16\n",
            "\u001b[31mERROR: pip's dependency resolver does not currently take into account all the packages that are installed. This behaviour is the source of the following dependency conflicts.\n",
            "orbax-checkpoint 0.4.1 requires jax>=0.4.9, but you have jax 0.4.8 which is incompatible.\u001b[0m\u001b[31m\n",
            "\u001b[0mSuccessfully installed jax-0.4.8 jaxlib-0.4.7\n",
            "Collecting femr[models]==0.1.16\n",
            "  Downloading femr-0.1.16-cp310-cp310-manylinux_2_17_x86_64.manylinux2014_x86_64.whl (1.1 MB)\n",
            "\u001b[2K     \u001b[90m━━━━━━━━━━━━━━━━━━━━━━━━━━━━━━━━━━━━━━━━\u001b[0m \u001b[32m1.1/1.1 MB\u001b[0m \u001b[31m15.4 MB/s\u001b[0m eta \u001b[36m0:00:00\u001b[0m\n",
            "\u001b[?25hRequirement already satisfied: numpy>=1.22 in /usr/local/lib/python3.10/dist-packages (from femr[models]==0.1.16) (1.23.5)\n",
            "Requirement already satisfied: scipy>=1.6 in /usr/local/lib/python3.10/dist-packages (from femr[models]==0.1.16) (1.11.3)\n",
            "Requirement already satisfied: scikit-learn>=0.24 in /usr/local/lib/python3.10/dist-packages (from femr[models]==0.1.16) (1.2.2)\n",
            "Requirement already satisfied: tqdm>=4.60.0 in /usr/local/lib/python3.10/dist-packages (from femr[models]==0.1.16) (4.66.1)\n",
            "Collecting zstandard>=0.18 (from femr[models]==0.1.16)\n",
            "  Downloading zstandard-0.22.0-cp310-cp310-manylinux_2_17_x86_64.manylinux2014_x86_64.whl (5.4 MB)\n",
            "\u001b[2K     \u001b[90m━━━━━━━━━━━━━━━━━━━━━━━━━━━━━━━━━━━━━━━━\u001b[0m \u001b[32m5.4/5.4 MB\u001b[0m \u001b[31m87.6 MB/s\u001b[0m eta \u001b[36m0:00:00\u001b[0m\n",
            "\u001b[?25hCollecting icecream==2.1.3 (from femr[models]==0.1.16)\n",
            "  Downloading icecream-2.1.3-py2.py3-none-any.whl (8.4 kB)\n",
            "Collecting nptyping==2.4.1 (from femr[models]==0.1.16)\n",
            "  Downloading nptyping-2.4.1-py3-none-any.whl (36 kB)\n",
            "Requirement already satisfied: msgpack>=1.0.5 in /usr/local/lib/python3.10/dist-packages (from femr[models]==0.1.16) (1.0.7)\n",
            "Collecting optax==0.1.4 (from femr[models]==0.1.16)\n",
            "  Downloading optax-0.1.4-py3-none-any.whl (154 kB)\n",
            "\u001b[2K     \u001b[90m━━━━━━━━━━━━━━━━━━━━━━━━━━━━━━━━━━━━━━━━\u001b[0m \u001b[32m154.9/154.9 kB\u001b[0m \u001b[31m18.7 MB/s\u001b[0m eta \u001b[36m0:00:00\u001b[0m\n",
            "\u001b[?25hCollecting dm-haiku==0.0.9 (from femr[models]==0.1.16)\n",
            "  Downloading dm_haiku-0.0.9-py3-none-any.whl (352 kB)\n",
            "\u001b[2K     \u001b[90m━━━━━━━━━━━━━━━━━━━━━━━━━━━━━━━━━━━━━━━━\u001b[0m \u001b[32m352.1/352.1 kB\u001b[0m \u001b[31m33.0 MB/s\u001b[0m eta \u001b[36m0:00:00\u001b[0m\n",
            "\u001b[?25hRequirement already satisfied: jax==0.4.8 in /usr/local/lib/python3.10/dist-packages (from femr[models]==0.1.16) (0.4.8)\n",
            "Requirement already satisfied: absl-py>=0.7.1 in /usr/local/lib/python3.10/dist-packages (from dm-haiku==0.0.9->femr[models]==0.1.16) (1.4.0)\n",
            "Collecting jmp>=0.0.2 (from dm-haiku==0.0.9->femr[models]==0.1.16)\n",
            "  Downloading jmp-0.0.4-py3-none-any.whl (18 kB)\n",
            "Requirement already satisfied: tabulate>=0.8.9 in /usr/local/lib/python3.10/dist-packages (from dm-haiku==0.0.9->femr[models]==0.1.16) (0.9.0)\n",
            "Collecting colorama>=0.3.9 (from icecream==2.1.3->femr[models]==0.1.16)\n",
            "  Downloading colorama-0.4.6-py2.py3-none-any.whl (25 kB)\n",
            "Requirement already satisfied: pygments>=2.2.0 in /usr/local/lib/python3.10/dist-packages (from icecream==2.1.3->femr[models]==0.1.16) (2.16.1)\n",
            "Collecting executing>=0.3.1 (from icecream==2.1.3->femr[models]==0.1.16)\n",
            "  Downloading executing-2.0.1-py2.py3-none-any.whl (24 kB)\n",
            "Collecting asttokens>=2.0.1 (from icecream==2.1.3->femr[models]==0.1.16)\n",
            "  Downloading asttokens-2.4.1-py2.py3-none-any.whl (27 kB)\n",
            "Requirement already satisfied: ml-dtypes>=0.0.3 in /usr/local/lib/python3.10/dist-packages (from jax==0.4.8->femr[models]==0.1.16) (0.2.0)\n",
            "Requirement already satisfied: opt-einsum in /usr/local/lib/python3.10/dist-packages (from jax==0.4.8->femr[models]==0.1.16) (3.3.0)\n",
            "Requirement already satisfied: chex>=0.1.5 in /usr/local/lib/python3.10/dist-packages (from optax==0.1.4->femr[models]==0.1.16) (0.1.7)\n",
            "Requirement already satisfied: jaxlib>=0.1.37 in /usr/local/lib/python3.10/dist-packages (from optax==0.1.4->femr[models]==0.1.16) (0.4.7)\n",
            "Requirement already satisfied: typing-extensions>=3.10.0 in /usr/local/lib/python3.10/dist-packages (from optax==0.1.4->femr[models]==0.1.16) (4.5.0)\n",
            "Requirement already satisfied: joblib>=1.1.1 in /usr/local/lib/python3.10/dist-packages (from scikit-learn>=0.24->femr[models]==0.1.16) (1.3.2)\n",
            "Requirement already satisfied: threadpoolctl>=2.0.0 in /usr/local/lib/python3.10/dist-packages (from scikit-learn>=0.24->femr[models]==0.1.16) (3.2.0)\n",
            "Requirement already satisfied: six>=1.12.0 in /usr/local/lib/python3.10/dist-packages (from asttokens>=2.0.1->icecream==2.1.3->femr[models]==0.1.16) (1.16.0)\n",
            "Requirement already satisfied: dm-tree>=0.1.5 in /usr/local/lib/python3.10/dist-packages (from chex>=0.1.5->optax==0.1.4->femr[models]==0.1.16) (0.1.8)\n",
            "Requirement already satisfied: toolz>=0.9.0 in /usr/local/lib/python3.10/dist-packages (from chex>=0.1.5->optax==0.1.4->femr[models]==0.1.16) (0.12.0)\n",
            "Installing collected packages: zstandard, nptyping, jmp, executing, colorama, asttokens, icecream, dm-haiku, femr, optax\n",
            "  Attempting uninstall: optax\n",
            "    Found existing installation: optax 0.1.7\n",
            "    Uninstalling optax-0.1.7:\n",
            "      Successfully uninstalled optax-0.1.7\n",
            "Successfully installed asttokens-2.4.1 colorama-0.4.6 dm-haiku-0.0.9 executing-2.0.1 femr-0.1.16 icecream-2.1.3 jmp-0.0.4 nptyping-2.4.1 optax-0.1.4 zstandard-0.22.0\n"
          ]
        }
      ],
      "source": [
        "# Step 1: Installing the software\n",
        "\n",
        "# MOTOR relies upon femr v1, a package for machine learning on EHR records.\n",
        "\n",
        "# In particular, MOTOR requires FEMR 0.1.16: https://github.com/som-shahlab/femr/tree/0.1.16\n",
        "\n",
        "# There are two versions of femr, CPU and GPU\n",
        "# For this tutorial we will use the CPU version\n",
        "\n",
        "# https://github.com/som-shahlab/femr\n",
        "\n",
        "# How to install CPU version\n",
        "!pip install --upgrade \"jax[cpu]==0.4.8\"\n",
        "!pip install \"femr[models] == 0.1.16\"\n",
        "\n",
        "\n",
        "# How to install GPU version\n",
        "#!pip install --upgrade \"jax[cuda11_pip]==0.4.8\" -f https://storage.googleapis.com/jax-releases/jax_cuda_releases.html\n",
        "#!pip install \"femr_cuda[models] == 0.1.16\""
      ]
    },
    {
      "cell_type": "code",
      "source": [
        "# Step 2: Downloading the artifacts\n",
        "\n",
        "# The real model is stored on HuggingFace and can be downloaded by cloning https://huggingface.co/StanfordShahLab/motor-t-base\n",
        "# Real data can be obtained by processing with the FEMR 1.16 library: https://github.com/som-shahlab/femr/tree/0.1.16?tab=readme-ov-file#getting-started\n",
        "\n",
        "# However, this tutorial is going to be using a synthetic model + synthetic data\n",
        "\n",
        "# The commands to download the synthetic data\n",
        "!gdown https://drive.google.com/uc?id=1Yhsz47BG8SZGoIFx0Q_UGEKsfhi2aiDs -O synthetic_data.zip\n",
        "!unzip -oq synthetic_data.zip"
      ],
      "metadata": {
        "colab": {
          "base_uri": "https://localhost:8080/"
        },
        "id": "Yh9cB9gL7H1P",
        "outputId": "e3d94c57-9c06-43c4-bcf0-1db50eb6a70d"
      },
      "execution_count": 1,
      "outputs": [
        {
          "output_type": "stream",
          "name": "stdout",
          "text": [
            "Downloading...\n",
            "From: https://drive.google.com/uc?id=1Yhsz47BG8SZGoIFx0Q_UGEKsfhi2aiDs\n",
            "To: /content/synthetic_data.zip\n",
            "100% 22.6M/22.6M [00:00<00:00, 35.0MB/s]\n"
          ]
        }
      ]
    },
    {
      "cell_type": "code",
      "source": [
        "# Step 3: Understanding the artifacts\n",
        "\n",
        "!ls synthetic_data\n",
        "\n",
        "# clmbr / motor are the models\n",
        "\n",
        "# extract_lite is the features\n",
        "\n",
        "# train_person_ids.csv are the patients the model is trained on\n"
      ],
      "metadata": {
        "id": "Dq89rEGG7-a3",
        "colab": {
          "base_uri": "https://localhost:8080/"
        },
        "outputId": "5f89c5f7-ba3b-47cf-b79b-6973a18dba5a"
      },
      "execution_count": null,
      "outputs": [
        {
          "output_type": "stream",
          "name": "stdout",
          "text": [
            "clmbr  extract_lite  motor  train_person_ids.csv\n"
          ]
        }
      ]
    },
    {
      "cell_type": "code",
      "source": [
        "# Step 3b: Understanding extract_lite\n",
        "\n",
        "import femr.datasets\n",
        "\n",
        "\n",
        "# The database contains all the features used for the patients\n",
        "database = femr.datasets.PatientDatabase('synthetic_data/extract_lite')\n",
        "\n",
        "patients = list(database)\n",
        "\n",
        "\n",
        "# For example, we can load a single patient with patient_id 110\n",
        "print(patients[10])\n",
        "\n",
        "patient = database[patients[10]]\n",
        "\n",
        "# Print out all the events for the patients\n",
        "for event in patient.events:\n",
        "  print(event)"
      ],
      "metadata": {
        "colab": {
          "base_uri": "https://localhost:8080/"
        },
        "id": "zp2VgjdLUJ7L",
        "outputId": "b4de571b-70af-492c-d85e-38db47913a42"
      },
      "execution_count": null,
      "outputs": [
        {
          "output_type": "stream",
          "name": "stdout",
          "text": [
            "110\n",
            "Event(start=1992-02-04 00:00:00, code=Birth/Birth, value=None, visit_ids=1, clarity_source=PATIENT)\n",
            "Event(start=1992-02-04 00:00:00, code=Gender/Gender, value=F, visit_ids=1, clarity_source=PATIENT)\n",
            "Event(start=1992-02-04 00:00:00, code=Race/Race, value=White, visit_ids=1, clarity_source=PATIENT)\n",
            "Event(start=1992-04-03 00:00:00, code=ICD10CM/VX5IL6SO, value=None, visit_ids=13, clarity_source=DIAGNOSIS)\n",
            "Event(start=1992-05-08 00:00:00, code=ICD10CM/NJ9WA5CL, value=None, visit_ids=16, clarity_source=DIAGNOSIS)\n",
            "Event(start=1992-06-01 00:00:00, code=ICD10CM/9NFBZAEY, value=None, visit_ids=9, clarity_source=DIAGNOSIS)\n",
            "Event(start=1992-07-26 00:00:00, code=ICD10CM/VGT3XQIL, value=None, visit_ids=4, clarity_source=DIAGNOSIS)\n",
            "Event(start=1992-08-25 00:00:00, code=ICD10CM/57LXJUED, value=None, visit_ids=13, clarity_source=DIAGNOSIS)\n",
            "Event(start=1992-11-10 00:00:00, code=ICD10CM/5TPJBYZD, value=None, visit_ids=12, clarity_source=DIAGNOSIS)\n",
            "Event(start=1992-12-22 00:00:00, code=ICD10CM/TZZCVHUD, value=None, visit_ids=20, clarity_source=DIAGNOSIS)\n",
            "Event(start=1993-01-11 00:00:00, code=CPT/KERFNLH3, value=None, visit_ids=19, clarity_source=PROCEDURES)\n",
            "Event(start=1993-02-16 00:00:00, code=CPT/VC2GE5DV, value=None, visit_ids=3, clarity_source=PROCEDURES)\n",
            "Event(start=1993-04-25 00:00:00, code=CPT/O8VXPCRZ, value=None, visit_ids=6, clarity_source=PROCEDURES)\n",
            "Event(start=1993-07-02 00:00:00, code=CPT/P8P3ZNVX, value=None, visit_ids=3, clarity_source=PROCEDURES)\n",
            "Event(start=1993-08-26 00:00:00, code=CPT/AT8HVO0M, value=None, visit_ids=1, clarity_source=PROCEDURES)\n",
            "Event(start=1993-11-30 00:00:00, code=CPT/XZ7Q2FUL, value=None, visit_ids=10, clarity_source=PROCEDURES)\n",
            "Event(start=1994-01-04 00:00:00, code=CPT/IOSOCE9T, value=None, visit_ids=10, clarity_source=PROCEDURES)\n",
            "Event(start=1994-03-23 00:00:00, code=Drug/BK2F6I3J, value=None, dosage=45, visit_ids=5, lab_units=mg, clarity_source=MED_ORDER)\n",
            "Event(start=1994-05-02 00:00:00, code=Drug/C6RELHBH, value=None, dosage=33, visit_ids=9, lab_units=mg, clarity_source=MED_ORDER)\n",
            "Event(start=1994-05-07 00:00:00, code=Drug/M3SWQXK7, value=None, dosage=19, visit_ids=4, lab_units=mg, clarity_source=MED_ORDER)\n",
            "Event(start=1994-07-09 00:00:00, code=Drug/Q2UJDOQ7, value=None, dosage=38, visit_ids=5, lab_units=mg, clarity_source=MED_ORDER)\n",
            "Event(start=1994-09-21 00:00:00, code=Drug/K928X18C, value=None, dosage=33, visit_ids=13, lab_units=mg, clarity_source=MED_ORDER)\n",
            "Event(start=1994-10-29 00:00:00, code=Drug/P0YHRTSX, value=None, dosage=45, visit_ids=6, lab_units=mg, clarity_source=MED_ORDER)\n",
            "Event(start=1995-01-06 00:00:00, code=Vitals/KPFUIMIW, value=137.0, visit_ids=9, lab_units=mmHg, clarity_source=LAB_RESULT)\n",
            "Event(start=1995-01-13 00:00:00, code=Vitals/3DF185D7, value=124.0, visit_ids=19, lab_units=mmHg, clarity_source=LAB_RESULT)\n",
            "Event(start=1995-04-11 00:00:00, code=Vitals/IKA1DGNX, value=124.0, visit_ids=7, lab_units=mmHg, clarity_source=LAB_RESULT)\n",
            "Event(start=1995-07-04 00:00:00, code=Vitals/WLEU9LQT, value=81.0, visit_ids=12, lab_units=mmHg, clarity_source=LAB_RESULT)\n",
            "Event(start=1995-09-08 00:00:00, code=Vitals/NSBUV2VX, value=189.0, visit_ids=19, lab_units=mmHg, clarity_source=LAB_RESULT)\n",
            "Event(start=1995-11-09 00:00:00, code=Vitals/N7X8J96D, value=80.0, visit_ids=18, lab_units=mmHg, clarity_source=LAB_RESULT)\n",
            "Event(start=1996-02-13 00:00:00, code=Vitals/JYLI4IM8, value=145.0, visit_ids=12, lab_units=mmHg, clarity_source=LAB_RESULT)\n",
            "Event(start=1996-03-23 00:00:00, code=Vitals/IN89QRIE, value=115.0, visit_ids=0, lab_units=mmHg, clarity_source=LAB_RESULT)\n"
          ]
        }
      ]
    },
    {
      "cell_type": "code",
      "source": [
        "#@title Generate synthetic prediction times\n",
        "\n",
        "import random\n",
        "import csv\n",
        "\n",
        "random.seed(4533421)\n",
        "\n",
        "with open('prediction_times.csv', 'w') as f:\n",
        "  writer = csv.writer(f)\n",
        "  writer.writerow(['patient_id', 'prediction_time'])\n",
        "\n",
        "  for patient_id in database:\n",
        "    patient = database[patient_id]\n",
        "    times = [event.start for event in patient.events][4:]\n",
        "    chosen_times = list(set(random.choices(times, k=2)))\n",
        "\n",
        "    for chosen_time in chosen_times:\n",
        "      writer.writerow([patient_id, chosen_time.isoformat()])"
      ],
      "metadata": {
        "id": "17TsOWFa8Myf",
        "cellView": "form"
      },
      "execution_count": null,
      "outputs": []
    },
    {
      "cell_type": "code",
      "source": [
        "# Step 4: Choosing prediction times\n",
        "\n",
        "!head prediction_times.csv\n",
        "\n",
        "# We expect a csv with a simple format with two columns patient_id, prediciton_time\n",
        "\n",
        "# For OMOP datasets, patient_id = person_id\n",
        "# prediction_time indicates what features to use for that patient\n",
        "\n",
        "!wc -l prediction_times.csv\n",
        "\n",
        "# Note that a single patient can have multiple prediction times"
      ],
      "metadata": {
        "colab": {
          "base_uri": "https://localhost:8080/"
        },
        "id": "8yDdRJlOYpog",
        "outputId": "22f0045b-33d2-4ae3-f1f0-248da7bb3f4f"
      },
      "execution_count": null,
      "outputs": [
        {
          "output_type": "stream",
          "name": "stdout",
          "text": [
            "patient_id,prediction_time\r\n",
            "3,2020-08-09T00:00:00\r\n",
            "3,2022-06-05T00:00:00\r\n",
            "100,1991-03-03T00:00:00\r\n",
            "100,1992-05-26T00:00:00\r\n",
            "101,1993-11-09T00:00:00\r\n",
            "101,1992-11-02T00:00:00\r\n",
            "102,1994-02-05T00:00:00\r\n",
            "102,1993-03-10T00:00:00\r\n",
            "104,1991-08-13T00:00:00\r\n",
            "393 prediction_times.csv\n"
          ]
        }
      ]
    },
    {
      "cell_type": "code",
      "source": [
        "# For example, let's consider patient 3\n",
        "\n",
        "patient = database[3]\n",
        "\n",
        "# Print out all the events for the patients\n",
        "for event in patient.events:\n",
        "  print(event)\n",
        "\n",
        "# We have two prediction times for this patient 2020-08-09T00:00:00 and 2022-06-05T00:00:00\n",
        "\n",
        "# The first will use all data up until the Vitals/HbA1c event\n",
        "\n",
        "# The second will use all data up till Drug/Atorvastatin"
      ],
      "metadata": {
        "colab": {
          "base_uri": "https://localhost:8080/"
        },
        "id": "5zjRzSdAhF96",
        "outputId": "1e484ed1-1b15-48da-8b89-e61f984ffaa9"
      },
      "execution_count": null,
      "outputs": [
        {
          "output_type": "stream",
          "name": "stdout",
          "text": [
            "Event(start=1970-01-07 00:00:00, code=Birth/Birth, value=None)\n",
            "Event(start=1990-01-07 00:00:00, code=Gender/Gender, value=Female)\n",
            "Event(start=1990-01-07 00:00:00, code=Race/Race, value=White)\n",
            "Event(start=2020-07-09 00:00:00, code=Vitals/Blood Pressure, value=160.0, units=mmHg)\n",
            "Event(start=2020-08-09 00:00:00, code=Vitals/HbA1c, value=7.0, dosage=%)\n",
            "Event(start=2022-05-03 00:00:00, code=ICD10CM/E11.4, value=None)\n",
            "Event(start=2022-06-05 00:00:00, code=ICD10CM/E10.1, value=None)\n",
            "Event(start=2022-06-05 00:00:00, code=Note/ProgressNote, value=Patient Bob came to the clinic today)\n",
            "Event(start=2022-06-05 00:00:00, code=Drug/Atorvastatin, value=None, units=mg, dosage=50)\n",
            "Event(start=2022-06-06 00:00:00, code=Note/ProgressNote, value=Complicated notes generally need escaping , \"\n",
            " example)\n",
            "Event(start=2022-07-06 00:00:00, code=Drug/Multivitamins, value=None, units=ml, dosage=5)\n"
          ]
        }
      ]
    },
    {
      "cell_type": "code",
      "source": [
        "# Step 5: Computing representations\n",
        "\n",
        "!ls synthetic_data/motor\n",
        "\n",
        "# Note that this will be much faster if ran on a GPU\n",
        "\n",
        "!femr_compute_representations --data_path synthetic_data/extract_lite --model_path synthetic_data/motor --prediction_times_path prediction_times.csv --batch_size 1024 motor_reprs.pkl"
      ],
      "metadata": {
        "id": "A_Ee3auV8og_",
        "colab": {
          "base_uri": "https://localhost:8080/"
        },
        "outputId": "69bff1f0-7351-422c-e6dc-862992d64ca6"
      },
      "execution_count": null,
      "outputs": [
        {
          "output_type": "stream",
          "name": "stdout",
          "text": [
            "dictionary  model\n",
            "2023-11-06 20:09:33,408 [MainThread  ] [INFO ]  Preparing batches with Namespace(directory='/tmp/tmp9gcecg23/task_batches', data_path='synthetic_data/extract_lite', dictionary_path='synthetic_data/motor/dictionary', task='labeled_patients', transformer_vocab_size=2048, clmbr_survival_dictionary_path=None, labeled_patients_path='prediction_times.csv', is_hierarchical=False, seed=97, val_start=70, test_start=85, batch_size=1024, note_embedding_data=None, limit_to_patients_file=None, limit_before_date=None, num_clmbr_tasks=8192)\n",
            "2023-11-06 20:09:33,461 [MainThread  ] [INFO ]  Wrote config ...\n",
            "2023-11-06 20:09:33,461 [MainThread  ] [INFO ]  Starting to load\n",
            "When mapping codes, dropped 0 out of 2048\n",
            "When mapping codes, dropped 0 out of 2048\n",
            "When mapping codes, dropped 0 out of 2048\n",
            "When mapping codes, dropped 0 out of 2048\n",
            "When mapping codes, dropped 0 out of 2048\n",
            "When mapping codes, dropped 0 out of 2048\n",
            "When mapping codes, dropped 0 out of 2048\n",
            "When mapping codes, dropped 0 out of 2048\n",
            "When mapping codes, dropped 0 out of 2048\n",
            "When mapping codes, dropped 0 out of 2048\n",
            "When mapping codes, dropped 0 out of 2048\n",
            "When mapping codes, dropped 0 out of 2048\n",
            "When mapping codes, dropped 0 out of 2048\n",
            "When mapping codes, dropped 0 out of 2048\n",
            "When mapping codes, dropped 0 out of 2048\n",
            "When mapping codes, dropped 0 out of 2048\n",
            "When mapping codes, dropped 0 out of 2048\n",
            "When mapping codes, dropped 0 out of 2048\n",
            "When mapping codes, dropped 0 out of 2048\n",
            "When mapping codes, dropped 0 out of 2048\n",
            "When mapping codes, dropped 0 out of 2048\n",
            "When mapping codes, dropped 0 out of 2048\n",
            "When mapping codes, dropped 0 out of 2048\n",
            "When mapping codes, dropped 0 out of 2048\n",
            "When mapping codes, dropped 0 out of 2048\n",
            "When mapping codes, dropped 0 out of 2048\n",
            "When mapping codes, dropped 0 out of 2048\n",
            "When mapping codes, dropped 0 out of 2048\n",
            "When mapping codes, dropped 0 out of 2048\n",
            "When mapping codes, dropped 0 out of 2048\n",
            "When mapping codes, dropped 0 out of 2048\n",
            "When mapping codes, dropped 0 out of 2048\n",
            "When mapping codes, dropped 0 out of 2048\n",
            "When mapping codes, dropped 0 out of 2048\n",
            "2023-11-06 20:09:33,755 [MainThread  ] [INFO ]  Loaded\n",
            "When mapping codes, dropped 0 out of 2048\n",
            "2023-11-06 20:09:33,852 [MainThread  ] [INFO ]  Number of train patients 5\n",
            "No GPU/TPU found, falling back to CPU. (Set TF_CPP_MIN_LOG_LEVEL=0 and rerun for more info.)\n",
            "When mapping codes, dropped 0 out of 2048\n",
            "Computing reps 2023-11-06 20:09:34.685745\n",
            "Starting batches train 2023-11-06 20:09:34.686064\n",
            "Starting to process train 2023-11-06 20:09:34.686089\n",
            "Compiling the transformer ... (1024,) (256,)\n",
            "Starting batches dev 2023-11-06 20:09:37.861105\n",
            "Starting to process dev 2023-11-06 20:09:37.861182\n",
            "Starting batches test 2023-11-06 20:09:38.199972\n",
            "Starting to process test 2023-11-06 20:09:38.200035\n",
            "About to concat 1 2023-11-06 20:09:38.545479\n",
            "About to concat 2 2023-11-06 20:09:38.584549\n",
            "About to concat 3 2023-11-06 20:09:38.584667\n",
            "About to sort labels 2023-11-06 20:09:38.585016 392\n",
            "Done sorting labels 2023-11-06 20:09:38.585109\n",
            "About to sort representations 2023-11-06 20:09:38.585150 323\n",
            "Done sorting representations 2023-11-06 20:09:38.589136\n",
            "Done sorting labels and representations 2023-11-06 20:09:38.589251\n",
            "Creating representations\n",
            "Computing dates\n",
            "About to save 2023-11-06 20:09:38.833944\n"
          ]
        }
      ]
    },
    {
      "cell_type": "code",
      "source": [
        "# Inspect the format of the result\n",
        "\n",
        "import pickle\n",
        "\n",
        "with open('motor_reprs.pkl', 'rb') as f:\n",
        "    motor_reprs = pickle.load(f)\n",
        "\n",
        "\n",
        "# We have three keys here, patient_ids, prediction_times, and representations\n",
        "\n",
        "# Note the representations for this model are of size 257\n",
        "\n",
        "print(motor_reprs.keys())\n",
        "\n",
        "print('-' * 80)\n",
        "\n",
        "for k, v in motor_reprs.items():\n",
        "    print(k, v.shape)\n",
        "\n",
        "print('-' * 80)\n",
        "\n",
        "for k, v in motor_reprs.items():\n",
        "    if len(v.shape) == 2:\n",
        "        print(k, v[:10, :])\n",
        "    else:\n",
        "        print(k, v[:10])"
      ],
      "metadata": {
        "colab": {
          "base_uri": "https://localhost:8080/"
        },
        "id": "7cCM702WAbEs",
        "outputId": "07e7542a-2083-4dae-eada-57a1bd129fe8"
      },
      "execution_count": null,
      "outputs": [
        {
          "output_type": "stream",
          "name": "stdout",
          "text": [
            "dict_keys(['representations', 'patient_ids', 'prediction_times'])\n",
            "--------------------------------------------------------------------------------\n",
            "representations (392, 257)\n",
            "patient_ids (392,)\n",
            "prediction_times (392,)\n",
            "--------------------------------------------------------------------------------\n",
            "representations [[ 0.1548  0.1927  1.495  ...  1.805  -0.927   1.    ]\n",
            " [ 0.64   -1.572   0.3352 ... -0.4333 -1.084   1.    ]\n",
            " [-0.8384  0.31    1.224  ... -0.2367  1.393   1.    ]\n",
            " ...\n",
            " [-0.8564  1.88    0.6196 ...  0.317   0.2336  1.    ]\n",
            " [ 1.054   0.2644 -0.1779 ... -1.586  -1.703   1.    ]\n",
            " [ 1.054   0.2644 -0.1779 ... -1.586  -1.703   1.    ]]\n",
            "patient_ids [  3   3 100 100 101 101 102 102 103 103]\n",
            "prediction_times [datetime.datetime(2020, 8, 9, 0, 0) datetime.datetime(2022, 6, 5, 0, 0)\n",
            " datetime.datetime(1991, 3, 3, 0, 0) datetime.datetime(1992, 5, 26, 0, 0)\n",
            " datetime.datetime(1992, 11, 2, 0, 0) datetime.datetime(1993, 11, 9, 0, 0)\n",
            " datetime.datetime(1993, 3, 10, 0, 0) datetime.datetime(1994, 2, 5, 0, 0)\n",
            " datetime.datetime(1993, 8, 6, 0, 0) datetime.datetime(1996, 4, 29, 0, 0)]\n"
          ]
        }
      ]
    },
    {
      "cell_type": "code",
      "source": [
        "#@title Generate synthetic labels\n",
        "\n",
        "import random\n",
        "import csv\n",
        "import numpy as np\n",
        "import scipy\n",
        "\n",
        "random.seed(4533421)\n",
        "np.random.seed(3421342)\n",
        "\n",
        "representation_size = motor_reprs['representations'].shape[1]\n",
        "\n",
        "weight = np.random.normal(size=(representation_size,))\n",
        "\n",
        "logits = np.dot(motor_reprs['representations'], weight)\n",
        "\n",
        "probabilities = scipy.special.expit(logits)\n",
        "\n",
        "sampled_probabilties = np.random.rand(len(logits))\n",
        "\n",
        "labels = sampled_probabilties < probabilities\n",
        "\n",
        "with open('labels.csv', 'w') as f:\n",
        "  writer = csv.writer(f)\n",
        "  writer.writerow(['patient_id', 'prediction_time', 'value'])\n",
        "\n",
        "  for patient_id, prediction_time, label in zip(motor_reprs['patient_ids'], motor_reprs['prediction_times'], labels):\n",
        "    writer.writerow([patient_id, prediction_time, label])"
      ],
      "metadata": {
        "cellView": "form",
        "id": "pH_7UDdyZIcG"
      },
      "execution_count": null,
      "outputs": []
    },
    {
      "cell_type": "code",
      "source": [
        "# Step 6: Computing labels\n",
        "\n",
        "# We have to align our labels with our representations\n",
        "\n",
        "import datetime\n",
        "\n",
        "\n",
        "# We start by assuming labels have already been generated\n",
        "!wc -l labels.csv\n",
        "\n",
        "# Simple csv with a colum value for the label\n",
        "\n",
        "!head labels.csv\n",
        "\n",
        "# Load the labels into a Python dictionary\n",
        "\n",
        "label_map = {}\n",
        "\n",
        "with open('labels.csv') as f:\n",
        "    reader = csv.DictReader(f)\n",
        "    for row in reader:\n",
        "        label_map[int(row['patient_id']), datetime.datetime.fromisoformat(row['prediction_time'])] = row['value'] == 'True'\n",
        "\n",
        "# Now we have to align the labels with our representations\n",
        "\n",
        "labels = []\n",
        "\n",
        "for patient_id, prediction_time in zip(motor_reprs['patient_ids'], motor_reprs['prediction_times']):\n",
        "    labels.append(label_map[patient_id, prediction_time])\n",
        "\n",
        "print(len(labels))\n",
        "\n",
        "labels = np.array(labels)"
      ],
      "metadata": {
        "id": "cfoZyAX5DLa5",
        "colab": {
          "base_uri": "https://localhost:8080/"
        },
        "outputId": "26c49d05-e7eb-4a9e-b78a-d77efd8d69f7"
      },
      "execution_count": null,
      "outputs": [
        {
          "output_type": "stream",
          "name": "stdout",
          "text": [
            "393 labels.csv\n",
            "patient_id,prediction_time,value\n",
            "3,2020-08-09 00:00:00,True\n",
            "3,2022-06-05 00:00:00,False\n",
            "100,1991-03-03 00:00:00,True\n",
            "100,1992-05-26 00:00:00,False\n",
            "101,1992-11-02 00:00:00,True\n",
            "101,1993-11-09 00:00:00,True\n",
            "102,1993-03-10 00:00:00,True\n",
            "102,1994-02-05 00:00:00,False\n",
            "103,1993-08-06 00:00:00,True\n",
            "392\n"
          ]
        }
      ]
    },
    {
      "cell_type": "code",
      "source": [
        "# Step 7: Constructing a held-out test set\n",
        "\n",
        "# The FM has been trained on a set of patients\n",
        "# It's important to make sure that set is excluded from the held out test set\n",
        "\n",
        "!head synthetic_data/train_person_ids.csv\n",
        "\n",
        "train_person_ids = set()\n",
        "\n",
        "with open('synthetic_data/train_person_ids.csv') as f:\n",
        "    reader = csv.DictReader(f)\n",
        "\n",
        "    for row in reader:\n",
        "        train_person_ids.add(int(row['person_id']))\n",
        "\n",
        "print(\"Number of patients trained on\", len(train_person_ids))\n",
        "\n",
        "# Any patient not in the training set is a valid test set patient\n",
        "valid_test_set = [patient_id for patient_id in motor_reprs['patient_ids'] if patient_id not in train_person_ids]\n",
        "\n",
        "print(\"Possible test patients\", len(valid_test_set))\n",
        "\n",
        "# Note that it's always legal to decrease the size of the test set\n",
        "\n",
        "random.seed(43534)\n",
        "valid_test_set.sort()\n",
        "random.shuffle(valid_test_set)\n",
        "\n",
        "test_patients = valid_test_set[:len(valid_test_set) // 2]\n",
        "\n",
        "print(\"Chosen test patients\", len(test_patients))"
      ],
      "metadata": {
        "id": "gBqeHze5DNen",
        "colab": {
          "base_uri": "https://localhost:8080/"
        },
        "outputId": "1c55ccf6-21ec-42f0-dc97-2c9aca39f370"
      },
      "execution_count": null,
      "outputs": [
        {
          "output_type": "stream",
          "name": "stdout",
          "text": [
            "person_id\n",
            "157\n",
            "212\n",
            "154\n",
            "182\n",
            "268\n",
            "288\n",
            "194\n",
            "100\n",
            "270\n",
            "Number of patients trained on 100\n",
            "Possible test patients 198\n",
            "Chosen test patients 99\n"
          ]
        }
      ]
    },
    {
      "cell_type": "code",
      "source": [
        "# Step 8: Splitting features/labels into train / held out test\n",
        "\n",
        "test_mask = np.isin(motor_reprs['patient_ids'], test_patients)\n",
        "\n",
        "train_features = motor_reprs['representations'][~test_mask, :]\n",
        "train_labels =labels[~test_mask]\n",
        "\n",
        "test_features = motor_reprs['representations'][test_mask, :]\n",
        "test_labels = labels[test_mask]\n",
        "\n",
        "print(\"Train size\", len(train_labels))\n",
        "\n",
        "print(\"Test size\", len(test_labels))"
      ],
      "metadata": {
        "colab": {
          "base_uri": "https://localhost:8080/"
        },
        "id": "brbPzkjdfVS7",
        "outputId": "1b4cae95-551b-4b4a-eaef-a8cc4b39c27c"
      },
      "execution_count": null,
      "outputs": [
        {
          "output_type": "stream",
          "name": "stdout",
          "text": [
            "Train size 240\n",
            "Test size 152\n"
          ]
        }
      ]
    },
    {
      "cell_type": "code",
      "source": [
        "# Step 8: Training a logistic regression model\n",
        "\n",
        "import sklearn.linear_model\n",
        "\n",
        "model = sklearn.linear_model.LogisticRegressionCV()\n",
        "model.fit(train_features, train_labels)"
      ],
      "metadata": {
        "id": "5gESjyAJ8qWX",
        "colab": {
          "base_uri": "https://localhost:8080/",
          "height": 75
        },
        "outputId": "cb90f784-82c6-4077-b486-63e6cb8422ea"
      },
      "execution_count": null,
      "outputs": [
        {
          "output_type": "execute_result",
          "data": {
            "text/plain": [
              "LogisticRegressionCV()"
            ],
            "text/html": [
              "<style>#sk-container-id-1 {color: black;background-color: white;}#sk-container-id-1 pre{padding: 0;}#sk-container-id-1 div.sk-toggleable {background-color: white;}#sk-container-id-1 label.sk-toggleable__label {cursor: pointer;display: block;width: 100%;margin-bottom: 0;padding: 0.3em;box-sizing: border-box;text-align: center;}#sk-container-id-1 label.sk-toggleable__label-arrow:before {content: \"▸\";float: left;margin-right: 0.25em;color: #696969;}#sk-container-id-1 label.sk-toggleable__label-arrow:hover:before {color: black;}#sk-container-id-1 div.sk-estimator:hover label.sk-toggleable__label-arrow:before {color: black;}#sk-container-id-1 div.sk-toggleable__content {max-height: 0;max-width: 0;overflow: hidden;text-align: left;background-color: #f0f8ff;}#sk-container-id-1 div.sk-toggleable__content pre {margin: 0.2em;color: black;border-radius: 0.25em;background-color: #f0f8ff;}#sk-container-id-1 input.sk-toggleable__control:checked~div.sk-toggleable__content {max-height: 200px;max-width: 100%;overflow: auto;}#sk-container-id-1 input.sk-toggleable__control:checked~label.sk-toggleable__label-arrow:before {content: \"▾\";}#sk-container-id-1 div.sk-estimator input.sk-toggleable__control:checked~label.sk-toggleable__label {background-color: #d4ebff;}#sk-container-id-1 div.sk-label input.sk-toggleable__control:checked~label.sk-toggleable__label {background-color: #d4ebff;}#sk-container-id-1 input.sk-hidden--visually {border: 0;clip: rect(1px 1px 1px 1px);clip: rect(1px, 1px, 1px, 1px);height: 1px;margin: -1px;overflow: hidden;padding: 0;position: absolute;width: 1px;}#sk-container-id-1 div.sk-estimator {font-family: monospace;background-color: #f0f8ff;border: 1px dotted black;border-radius: 0.25em;box-sizing: border-box;margin-bottom: 0.5em;}#sk-container-id-1 div.sk-estimator:hover {background-color: #d4ebff;}#sk-container-id-1 div.sk-parallel-item::after {content: \"\";width: 100%;border-bottom: 1px solid gray;flex-grow: 1;}#sk-container-id-1 div.sk-label:hover label.sk-toggleable__label {background-color: #d4ebff;}#sk-container-id-1 div.sk-serial::before {content: \"\";position: absolute;border-left: 1px solid gray;box-sizing: border-box;top: 0;bottom: 0;left: 50%;z-index: 0;}#sk-container-id-1 div.sk-serial {display: flex;flex-direction: column;align-items: center;background-color: white;padding-right: 0.2em;padding-left: 0.2em;position: relative;}#sk-container-id-1 div.sk-item {position: relative;z-index: 1;}#sk-container-id-1 div.sk-parallel {display: flex;align-items: stretch;justify-content: center;background-color: white;position: relative;}#sk-container-id-1 div.sk-item::before, #sk-container-id-1 div.sk-parallel-item::before {content: \"\";position: absolute;border-left: 1px solid gray;box-sizing: border-box;top: 0;bottom: 0;left: 50%;z-index: -1;}#sk-container-id-1 div.sk-parallel-item {display: flex;flex-direction: column;z-index: 1;position: relative;background-color: white;}#sk-container-id-1 div.sk-parallel-item:first-child::after {align-self: flex-end;width: 50%;}#sk-container-id-1 div.sk-parallel-item:last-child::after {align-self: flex-start;width: 50%;}#sk-container-id-1 div.sk-parallel-item:only-child::after {width: 0;}#sk-container-id-1 div.sk-dashed-wrapped {border: 1px dashed gray;margin: 0 0.4em 0.5em 0.4em;box-sizing: border-box;padding-bottom: 0.4em;background-color: white;}#sk-container-id-1 div.sk-label label {font-family: monospace;font-weight: bold;display: inline-block;line-height: 1.2em;}#sk-container-id-1 div.sk-label-container {text-align: center;}#sk-container-id-1 div.sk-container {/* jupyter's `normalize.less` sets `[hidden] { display: none; }` but bootstrap.min.css set `[hidden] { display: none !important; }` so we also need the `!important` here to be able to override the default hidden behavior on the sphinx rendered scikit-learn.org. See: https://github.com/scikit-learn/scikit-learn/issues/21755 */display: inline-block !important;position: relative;}#sk-container-id-1 div.sk-text-repr-fallback {display: none;}</style><div id=\"sk-container-id-1\" class=\"sk-top-container\"><div class=\"sk-text-repr-fallback\"><pre>LogisticRegressionCV()</pre><b>In a Jupyter environment, please rerun this cell to show the HTML representation or trust the notebook. <br />On GitHub, the HTML representation is unable to render, please try loading this page with nbviewer.org.</b></div><div class=\"sk-container\" hidden><div class=\"sk-item\"><div class=\"sk-estimator sk-toggleable\"><input class=\"sk-toggleable__control sk-hidden--visually\" id=\"sk-estimator-id-1\" type=\"checkbox\" checked><label for=\"sk-estimator-id-1\" class=\"sk-toggleable__label sk-toggleable__label-arrow\">LogisticRegressionCV</label><div class=\"sk-toggleable__content\"><pre>LogisticRegressionCV()</pre></div></div></div></div></div>"
            ]
          },
          "metadata": {},
          "execution_count": 16
        }
      ]
    },
    {
      "cell_type": "code",
      "source": [
        "# Step 9: Performance analysis\n",
        "\n",
        "import matplotlib.pyplot as plt\n",
        "\n",
        "probabilities = model.predict_log_proba(test_features)[:, 1]\n",
        "\n",
        "\n",
        "display =  sklearn.metrics.PrecisionRecallDisplay.from_predictions(\n",
        "    labels[test_mask], probabilities,\n",
        ")\n",
        "plt.title(\"Precision Recall Curve\")\n",
        "\n",
        "\n",
        "display =  sklearn.metrics.RocCurveDisplay.from_predictions(\n",
        "    labels[test_mask], probabilities,\n",
        ")\n",
        "plt.title(\"Reciever Operator Curve\")"
      ],
      "metadata": {
        "id": "52rDFNz_DVRI",
        "colab": {
          "base_uri": "https://localhost:8080/",
          "height": 945
        },
        "outputId": "a5e2d2ee-bdca-438f-a225-c96ffda42d9d"
      },
      "execution_count": null,
      "outputs": [
        {
          "output_type": "execute_result",
          "data": {
            "text/plain": [
              "Text(0.5, 1.0, 'Reciever Operator Curve')"
            ]
          },
          "metadata": {},
          "execution_count": 17
        },
        {
          "output_type": "display_data",
          "data": {
            "text/plain": [
              "<Figure size 640x480 with 1 Axes>"
            ],
            "image/png": "[encoded data removed]"
          },
          "metadata": {}
        },
        {
          "output_type": "display_data",
          "data": {
            "text/plain": [
              "<Figure size 640x480 with 1 Axes>"
            ],
            "image/png": "[encoded data removed]"
          },
          "metadata": {}
        }
      ]
    }
  ]
}